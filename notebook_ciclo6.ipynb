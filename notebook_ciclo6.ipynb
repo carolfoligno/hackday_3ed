{
 "cells": [
  {
   "cell_type": "markdown",
   "id": "939dde04",
   "metadata": {},
   "source": [
    "# Inadimpletes - Hackday 3° Edição"
   ]
  },
  {
   "cell_type": "code",
   "execution_count": null,
   "id": "92f4eb85",
   "metadata": {},
   "outputs": [],
   "source": [
    "#!pip install sweetviz xgboost category_encoders"
   ]
  },
  {
   "cell_type": "code",
   "execution_count": 1,
   "id": "fdc46189",
   "metadata": {
    "ExecuteTime": {
     "end_time": "2022-10-23T13:25:33.099309Z",
     "start_time": "2022-10-23T13:25:32.039024Z"
    },
    "_cell_guid": "b1076dfc-b9ad-4769-8c92-a6c4dae69d19",
    "_uuid": "8f2839f25d086af736a60e9eeb907d3b93b6e0e5",
    "execution": {
     "iopub.execute_input": "2022-10-22T02:13:22.052281Z",
     "iopub.status.busy": "2022-10-22T02:13:22.051675Z",
     "iopub.status.idle": "2022-10-22T02:13:23.055120Z",
     "shell.execute_reply": "2022-10-22T02:13:23.053918Z"
    },
    "papermill": {
     "duration": 1.020395,
     "end_time": "2022-10-22T02:13:23.058884",
     "exception": false,
     "start_time": "2022-10-22T02:13:22.038489",
     "status": "completed"
    },
    "tags": []
   },
   "outputs": [],
   "source": [
    "import pandas as pd\n",
    "import numpy as np\n",
    "import matplotlib.pyplot as plt\n",
    "import seaborn as sns\n",
    "import sweetviz\n",
    "import pickle\n",
    "\n",
    "from sklearn.metrics       import mean_absolute_error, mean_squared_error, f1_score\n",
    "from sklearn.ensemble      import RandomForestClassifier\n",
    "from sklearn.linear_model  import LinearRegression, Lasso\n",
    "from sklearn.preprocessing import StandardScaler, RobustScaler, MinMaxScaler, LabelEncoder\n",
    "import sklearn.model_selection as ms\n",
    "from xgboost                 import XGBClassifier\n",
    "from category_encoders       import TargetEncoder\n",
    "\n",
    "%matplotlib inline\n",
    "sns.set_theme()\n",
    "pd.set_option('display.float_format', '{:.2f}'.format)\n",
    "pd.set_option('display.max_columns', 500)\n",
    "plt.rcParams['figure.figsize'] = [25, 12]\n",
    "plt.rcParams['font.size'] = 16"
   ]
  },
  {
   "cell_type": "markdown",
   "id": "3a7c9e41",
   "metadata": {
    "heading_collapsed": true,
    "papermill": {
     "duration": 0.00945,
     "end_time": "2022-10-22T02:13:23.079077",
     "exception": false,
     "start_time": "2022-10-22T02:13:23.069627",
     "status": "completed"
    },
    "tags": []
   },
   "source": [
    "## Data Ingestion"
   ]
  },
  {
   "cell_type": "code",
   "execution_count": 2,
   "id": "72e36963",
   "metadata": {
    "ExecuteTime": {
     "end_time": "2022-10-23T13:25:35.832555Z",
     "start_time": "2022-10-23T13:25:35.799288Z"
    },
    "execution": {
     "iopub.execute_input": "2022-10-22T02:13:23.101923Z",
     "iopub.status.busy": "2022-10-22T02:13:23.101530Z",
     "iopub.status.idle": "2022-10-22T02:13:23.194360Z",
     "shell.execute_reply": "2022-10-22T02:13:23.193123Z"
    },
    "hidden": true,
    "papermill": {
     "duration": 0.108127,
     "end_time": "2022-10-22T02:13:23.196894",
     "exception": false,
     "start_time": "2022-10-22T02:13:23.088767",
     "status": "completed"
    },
    "tags": []
   },
   "outputs": [
    {
     "data": {
      "text/html": [
       "<div>\n",
       "<style scoped>\n",
       "    .dataframe tbody tr th:only-of-type {\n",
       "        vertical-align: middle;\n",
       "    }\n",
       "\n",
       "    .dataframe tbody tr th {\n",
       "        vertical-align: top;\n",
       "    }\n",
       "\n",
       "    .dataframe thead th {\n",
       "        text-align: right;\n",
       "    }\n",
       "</style>\n",
       "<table border=\"1\" class=\"dataframe\">\n",
       "  <thead>\n",
       "    <tr style=\"text-align: right;\">\n",
       "      <th></th>\n",
       "      <th>id_cliente</th>\n",
       "      <th>idade</th>\n",
       "      <th>saldo_atual</th>\n",
       "      <th>divida_atual</th>\n",
       "      <th>renda_anual</th>\n",
       "      <th>valor_em_investimentos</th>\n",
       "      <th>taxa_utilizacao_credito</th>\n",
       "      <th>num_emprestimos</th>\n",
       "      <th>num_contas_bancarias</th>\n",
       "      <th>num_cartoes_credito</th>\n",
       "      <th>dias_atraso_dt_venc</th>\n",
       "      <th>num_pgtos_atrasados</th>\n",
       "      <th>num_consultas_credito</th>\n",
       "      <th>taxa_juros</th>\n",
       "      <th>investe_exterior</th>\n",
       "      <th>pessoa_polit_exp</th>\n",
       "      <th>limite_adicional</th>\n",
       "    </tr>\n",
       "  </thead>\n",
       "  <tbody>\n",
       "    <tr>\n",
       "      <th>0</th>\n",
       "      <td>1767</td>\n",
       "      <td>21</td>\n",
       "      <td>278.17</td>\n",
       "      <td>2577.05</td>\n",
       "      <td>24196.90</td>\n",
       "      <td>104.31</td>\n",
       "      <td>31.04</td>\n",
       "      <td>6</td>\n",
       "      <td>5</td>\n",
       "      <td>7</td>\n",
       "      <td>21</td>\n",
       "      <td>14</td>\n",
       "      <td>9</td>\n",
       "      <td>15</td>\n",
       "      <td>Não</td>\n",
       "      <td>Não</td>\n",
       "      <td>Negar</td>\n",
       "    </tr>\n",
       "    <tr>\n",
       "      <th>1</th>\n",
       "      <td>11920</td>\n",
       "      <td>40</td>\n",
       "      <td>268.87</td>\n",
       "      <td>2465.39</td>\n",
       "      <td>19227.38</td>\n",
       "      <td>69.86</td>\n",
       "      <td>36.92</td>\n",
       "      <td>5</td>\n",
       "      <td>8</td>\n",
       "      <td>5</td>\n",
       "      <td>40</td>\n",
       "      <td>23</td>\n",
       "      <td>10</td>\n",
       "      <td>18</td>\n",
       "      <td>Não</td>\n",
       "      <td>Não</td>\n",
       "      <td>Negar</td>\n",
       "    </tr>\n",
       "    <tr>\n",
       "      <th>2</th>\n",
       "      <td>8910</td>\n",
       "      <td>36</td>\n",
       "      <td>446.64</td>\n",
       "      <td>1055.29</td>\n",
       "      <td>42822.28</td>\n",
       "      <td>134.20</td>\n",
       "      <td>34.56</td>\n",
       "      <td>0</td>\n",
       "      <td>3</td>\n",
       "      <td>6</td>\n",
       "      <td>26</td>\n",
       "      <td>13</td>\n",
       "      <td>3</td>\n",
       "      <td>15</td>\n",
       "      <td>Sim</td>\n",
       "      <td>Não</td>\n",
       "      <td>Negar</td>\n",
       "    </tr>\n",
       "    <tr>\n",
       "      <th>3</th>\n",
       "      <td>4964</td>\n",
       "      <td>58</td>\n",
       "      <td>321.14</td>\n",
       "      <td>703.05</td>\n",
       "      <td>51786.83</td>\n",
       "      <td>297.35</td>\n",
       "      <td>31.49</td>\n",
       "      <td>0</td>\n",
       "      <td>3</td>\n",
       "      <td>7</td>\n",
       "      <td>12</td>\n",
       "      <td>7</td>\n",
       "      <td>2</td>\n",
       "      <td>1</td>\n",
       "      <td>Sim</td>\n",
       "      <td>Não</td>\n",
       "      <td>Negar</td>\n",
       "    </tr>\n",
       "    <tr>\n",
       "      <th>4</th>\n",
       "      <td>10100</td>\n",
       "      <td>35</td>\n",
       "      <td>428.72</td>\n",
       "      <td>891.29</td>\n",
       "      <td>44626.85</td>\n",
       "      <td>134.20</td>\n",
       "      <td>28.03</td>\n",
       "      <td>2</td>\n",
       "      <td>8</td>\n",
       "      <td>7</td>\n",
       "      <td>24</td>\n",
       "      <td>10</td>\n",
       "      <td>8</td>\n",
       "      <td>20</td>\n",
       "      <td>Sim</td>\n",
       "      <td>Não</td>\n",
       "      <td>Negar</td>\n",
       "    </tr>\n",
       "  </tbody>\n",
       "</table>\n",
       "</div>"
      ],
      "text/plain": [
       "   id_cliente  idade  saldo_atual  divida_atual  renda_anual  \\\n",
       "0        1767     21       278.17       2577.05     24196.90   \n",
       "1       11920     40       268.87       2465.39     19227.38   \n",
       "2        8910     36       446.64       1055.29     42822.28   \n",
       "3        4964     58       321.14        703.05     51786.83   \n",
       "4       10100     35       428.72        891.29     44626.85   \n",
       "\n",
       "   valor_em_investimentos  taxa_utilizacao_credito  num_emprestimos  \\\n",
       "0                  104.31                    31.04                6   \n",
       "1                   69.86                    36.92                5   \n",
       "2                  134.20                    34.56                0   \n",
       "3                  297.35                    31.49                0   \n",
       "4                  134.20                    28.03                2   \n",
       "\n",
       "   num_contas_bancarias  num_cartoes_credito  dias_atraso_dt_venc  \\\n",
       "0                     5                    7                   21   \n",
       "1                     8                    5                   40   \n",
       "2                     3                    6                   26   \n",
       "3                     3                    7                   12   \n",
       "4                     8                    7                   24   \n",
       "\n",
       "   num_pgtos_atrasados  num_consultas_credito  taxa_juros investe_exterior  \\\n",
       "0                   14                      9          15              Não   \n",
       "1                   23                     10          18              Não   \n",
       "2                   13                      3          15              Sim   \n",
       "3                    7                      2           1              Sim   \n",
       "4                   10                      8          20              Sim   \n",
       "\n",
       "  pessoa_polit_exp limite_adicional  \n",
       "0              Não            Negar  \n",
       "1              Não            Negar  \n",
       "2              Não            Negar  \n",
       "3              Não            Negar  \n",
       "4              Não            Negar  "
      ]
     },
     "execution_count": 2,
     "metadata": {},
     "output_type": "execute_result"
    }
   ],
   "source": [
    "df_train = pd.read_csv('data/train.csv')\n",
    "df_train.head()"
   ]
  },
  {
   "cell_type": "markdown",
   "id": "f3d2d7cf",
   "metadata": {
    "papermill": {
     "duration": 0.009822,
     "end_time": "2022-10-22T02:13:23.216983",
     "exception": false,
     "start_time": "2022-10-22T02:13:23.207161",
     "status": "completed"
    },
    "tags": []
   },
   "source": [
    "## Data understanding"
   ]
  },
  {
   "cell_type": "markdown",
   "id": "8f251693",
   "metadata": {
    "heading_collapsed": true,
    "papermill": {
     "duration": 0.009745,
     "end_time": "2022-10-22T02:13:23.236678",
     "exception": false,
     "start_time": "2022-10-22T02:13:23.226933",
     "status": "completed"
    },
    "tags": []
   },
   "source": [
    "## Data dimension"
   ]
  },
  {
   "cell_type": "code",
   "execution_count": null,
   "id": "e049a7f6",
   "metadata": {
    "execution": {
     "iopub.execute_input": "2022-10-22T02:13:23.258616Z",
     "iopub.status.busy": "2022-10-22T02:13:23.258210Z",
     "iopub.status.idle": "2022-10-22T02:13:23.265107Z",
     "shell.execute_reply": "2022-10-22T02:13:23.263971Z"
    },
    "hidden": true,
    "papermill": {
     "duration": 0.020723,
     "end_time": "2022-10-22T02:13:23.267394",
     "exception": false,
     "start_time": "2022-10-22T02:13:23.246671",
     "status": "completed"
    },
    "tags": []
   },
   "outputs": [],
   "source": [
    "df_train.shape"
   ]
  },
  {
   "cell_type": "markdown",
   "id": "38c703e3",
   "metadata": {
    "heading_collapsed": true,
    "papermill": {
     "duration": 0.009904,
     "end_time": "2022-10-22T02:13:23.287531",
     "exception": false,
     "start_time": "2022-10-22T02:13:23.277627",
     "status": "completed"
    },
    "tags": []
   },
   "source": [
    "## Class distribution"
   ]
  },
  {
   "cell_type": "code",
   "execution_count": null,
   "id": "206c3fd4",
   "metadata": {
    "execution": {
     "iopub.execute_input": "2022-10-22T02:13:23.310079Z",
     "iopub.status.busy": "2022-10-22T02:13:23.309037Z",
     "iopub.status.idle": "2022-10-22T02:13:23.322344Z",
     "shell.execute_reply": "2022-10-22T02:13:23.321561Z"
    },
    "hidden": true,
    "papermill": {
     "duration": 0.026703,
     "end_time": "2022-10-22T02:13:23.324353",
     "exception": false,
     "start_time": "2022-10-22T02:13:23.297650",
     "status": "completed"
    },
    "tags": []
   },
   "outputs": [],
   "source": [
    "df_train['limite_adicional'].value_counts(normalize=True)*100"
   ]
  },
  {
   "cell_type": "markdown",
   "id": "370036e3",
   "metadata": {
    "heading_collapsed": true,
    "papermill": {
     "duration": 0.010181,
     "end_time": "2022-10-22T02:13:23.344747",
     "exception": false,
     "start_time": "2022-10-22T02:13:23.334566",
     "status": "completed"
    },
    "tags": []
   },
   "source": [
    "## Data types"
   ]
  },
  {
   "cell_type": "code",
   "execution_count": null,
   "id": "43dcfc11",
   "metadata": {
    "execution": {
     "iopub.execute_input": "2022-10-22T02:13:23.367338Z",
     "iopub.status.busy": "2022-10-22T02:13:23.366690Z",
     "iopub.status.idle": "2022-10-22T02:13:23.373773Z",
     "shell.execute_reply": "2022-10-22T02:13:23.372867Z"
    },
    "hidden": true,
    "papermill": {
     "duration": 0.020986,
     "end_time": "2022-10-22T02:13:23.375876",
     "exception": false,
     "start_time": "2022-10-22T02:13:23.354890",
     "status": "completed"
    },
    "tags": []
   },
   "outputs": [],
   "source": [
    "df_train.dtypes"
   ]
  },
  {
   "cell_type": "markdown",
   "id": "713f6989",
   "metadata": {
    "heading_collapsed": true,
    "papermill": {
     "duration": 0.01022,
     "end_time": "2022-10-22T02:13:23.396577",
     "exception": false,
     "start_time": "2022-10-22T02:13:23.386357",
     "status": "completed"
    },
    "tags": []
   },
   "source": [
    "## NAN?"
   ]
  },
  {
   "cell_type": "code",
   "execution_count": null,
   "id": "35416178",
   "metadata": {
    "execution": {
     "iopub.execute_input": "2022-10-22T02:13:23.419741Z",
     "iopub.status.busy": "2022-10-22T02:13:23.419310Z",
     "iopub.status.idle": "2022-10-22T02:13:23.434164Z",
     "shell.execute_reply": "2022-10-22T02:13:23.433213Z"
    },
    "hidden": true,
    "papermill": {
     "duration": 0.029292,
     "end_time": "2022-10-22T02:13:23.436470",
     "exception": false,
     "start_time": "2022-10-22T02:13:23.407178",
     "status": "completed"
    },
    "tags": []
   },
   "outputs": [],
   "source": [
    "df_train.isna().sum()"
   ]
  },
  {
   "cell_type": "markdown",
   "id": "a71ca109",
   "metadata": {
    "heading_collapsed": true,
    "papermill": {
     "duration": 0.010679,
     "end_time": "2022-10-22T02:13:23.457704",
     "exception": false,
     "start_time": "2022-10-22T02:13:23.447025",
     "status": "completed"
    },
    "tags": []
   },
   "source": [
    "## Descriptive Statistics"
   ]
  },
  {
   "cell_type": "code",
   "execution_count": null,
   "id": "ca7b81c5",
   "metadata": {
    "hidden": true
   },
   "outputs": [],
   "source": []
  },
  {
   "cell_type": "code",
   "execution_count": null,
   "id": "e538f430",
   "metadata": {
    "ExecuteTime": {
     "end_time": "2022-10-23T13:20:43.203860Z",
     "start_time": "2022-10-23T13:20:43.168847Z"
    },
    "execution": {
     "iopub.execute_input": "2022-10-22T02:13:23.480104Z",
     "iopub.status.busy": "2022-10-22T02:13:23.479710Z",
     "iopub.status.idle": "2022-10-22T02:13:23.531211Z",
     "shell.execute_reply": "2022-10-22T02:13:23.530108Z"
    },
    "hidden": true,
    "papermill": {
     "duration": 0.065559,
     "end_time": "2022-10-22T02:13:23.533600",
     "exception": false,
     "start_time": "2022-10-22T02:13:23.468041",
     "status": "completed"
    },
    "tags": []
   },
   "outputs": [],
   "source": [
    "df_train.describe(include='object').T.sort_values(by='unique', ascending=False)"
   ]
  },
  {
   "cell_type": "code",
   "execution_count": null,
   "id": "313cf81b",
   "metadata": {
    "ExecuteTime": {
     "end_time": "2022-10-23T13:20:43.958940Z",
     "start_time": "2022-10-23T13:20:43.915752Z"
    },
    "execution": {
     "iopub.execute_input": "2022-10-22T02:13:23.556691Z",
     "iopub.status.busy": "2022-10-22T02:13:23.556282Z",
     "iopub.status.idle": "2022-10-22T02:13:23.581842Z",
     "shell.execute_reply": "2022-10-22T02:13:23.580779Z"
    },
    "hidden": true,
    "papermill": {
     "duration": 0.039696,
     "end_time": "2022-10-22T02:13:23.584236",
     "exception": false,
     "start_time": "2022-10-22T02:13:23.544540",
     "status": "completed"
    },
    "tags": []
   },
   "outputs": [],
   "source": [
    "df_train.describe().T"
   ]
  },
  {
   "cell_type": "code",
   "execution_count": null,
   "id": "5c72aea1",
   "metadata": {
    "hidden": true
   },
   "outputs": [],
   "source": []
  },
  {
   "cell_type": "markdown",
   "id": "929e98e9",
   "metadata": {
    "heading_collapsed": true
   },
   "source": [
    "## Data Cleaning"
   ]
  },
  {
   "cell_type": "code",
   "execution_count": 3,
   "id": "1bba15e1",
   "metadata": {
    "ExecuteTime": {
     "end_time": "2022-10-23T13:26:40.805177Z",
     "start_time": "2022-10-23T13:26:40.799785Z"
    },
    "hidden": true
   },
   "outputs": [],
   "source": [
    "df2 = df_train.copy()"
   ]
  },
  {
   "cell_type": "code",
   "execution_count": null,
   "id": "1b9f9d77",
   "metadata": {
    "ExecuteTime": {
     "end_time": "2022-10-23T13:21:02.626032Z",
     "start_time": "2022-10-23T13:21:02.622933Z"
    },
    "hidden": true
   },
   "outputs": [],
   "source": [
    "def filter_outliers(df, col, factor=2):\n",
    "    q3 = df[col].quantile(0.75)\n",
    "    q1 = df[col].quantile(0.25)\n",
    "\n",
    "    iqr = q3 - q1\n",
    "    max_bouderie = q3 + iqr * factor\n",
    "    min_bouderie = q1 - iqr * factor\n",
    "\n",
    "    return df.loc[(df[col] >= min_bouderie) & (df[col] <= max_bouderie), :]"
   ]
  },
  {
   "cell_type": "code",
   "execution_count": null,
   "id": "e3e3b357",
   "metadata": {
    "ExecuteTime": {
     "end_time": "2022-10-23T13:21:05.004442Z",
     "start_time": "2022-10-23T13:21:04.979649Z"
    },
    "hidden": true
   },
   "outputs": [],
   "source": [
    "df2 = filter_outliers(df2, 'idade')\n",
    "df2 = filter_outliers(df2, 'valor_em_investimentos')\n",
    "df2 = filter_outliers(df2, 'taxa_juros')\n",
    "df2 = filter_outliers(df2, 'renda_anual')\n",
    "df2 = filter_outliers(df2, 'num_emprestimos')\n",
    "df2 = filter_outliers(df2, 'num_cartoes_credito')\n",
    "df2 = filter_outliers(df2, 'num_contas_bancarias')\n",
    "df2 = filter_outliers(df2, 'num_consultas_credito')"
   ]
  },
  {
   "cell_type": "code",
   "execution_count": null,
   "id": "6568981e",
   "metadata": {
    "execution": {
     "iopub.execute_input": "2022-10-22T02:13:23.630110Z",
     "iopub.status.busy": "2022-10-22T02:13:23.629703Z",
     "iopub.status.idle": "2022-10-22T02:13:23.635593Z",
     "shell.execute_reply": "2022-10-22T02:13:23.634645Z"
    },
    "hidden": true,
    "papermill": {
     "duration": 0.020463,
     "end_time": "2022-10-22T02:13:23.637952",
     "exception": false,
     "start_time": "2022-10-22T02:13:23.617489",
     "status": "completed"
    },
    "tags": []
   },
   "outputs": [],
   "source": []
  },
  {
   "cell_type": "markdown",
   "id": "7f71ba71",
   "metadata": {
    "papermill": {
     "duration": 0.010448,
     "end_time": "2022-10-22T02:13:23.659209",
     "exception": false,
     "start_time": "2022-10-22T02:13:23.648761",
     "status": "completed"
    },
    "tags": []
   },
   "source": [
    "## Remove useless features"
   ]
  },
  {
   "cell_type": "code",
   "execution_count": 4,
   "id": "afcae8f4",
   "metadata": {
    "ExecuteTime": {
     "end_time": "2022-10-23T13:26:54.928120Z",
     "start_time": "2022-10-23T13:26:54.924265Z"
    },
    "execution": {
     "iopub.execute_input": "2022-10-22T02:13:23.682150Z",
     "iopub.status.busy": "2022-10-22T02:13:23.681781Z",
     "iopub.status.idle": "2022-10-22T02:13:23.688883Z",
     "shell.execute_reply": "2022-10-22T02:13:23.687823Z"
    },
    "papermill": {
     "duration": 0.021071,
     "end_time": "2022-10-22T02:13:23.690949",
     "exception": false,
     "start_time": "2022-10-22T02:13:23.669878",
     "status": "completed"
    },
    "tags": []
   },
   "outputs": [],
   "source": [
    "cols_remove = ['id_cliente']\n",
    "df2 = df2.drop(columns=cols_remove)"
   ]
  },
  {
   "cell_type": "markdown",
   "id": "cdc79a06",
   "metadata": {},
   "source": [
    "## Dataset Split"
   ]
  },
  {
   "cell_type": "code",
   "execution_count": 23,
   "id": "4c1f3e58",
   "metadata": {
    "ExecuteTime": {
     "end_time": "2022-10-23T13:33:09.258347Z",
     "start_time": "2022-10-23T13:33:09.255239Z"
    }
   },
   "outputs": [],
   "source": [
    "df_pp = df2.copy()"
   ]
  },
  {
   "cell_type": "code",
   "execution_count": 24,
   "id": "e2fa064b",
   "metadata": {
    "ExecuteTime": {
     "end_time": "2022-10-23T13:33:09.796840Z",
     "start_time": "2022-10-23T13:33:09.784785Z"
    },
    "execution": {
     "iopub.execute_input": "2022-10-22T02:13:23.713935Z",
     "iopub.status.busy": "2022-10-22T02:13:23.713532Z",
     "iopub.status.idle": "2022-10-22T02:13:23.724922Z",
     "shell.execute_reply": "2022-10-22T02:13:23.723793Z"
    },
    "papermill": {
     "duration": 0.0257,
     "end_time": "2022-10-22T02:13:23.727366",
     "exception": false,
     "start_time": "2022-10-22T02:13:23.701666",
     "status": "completed"
    },
    "tags": []
   },
   "outputs": [],
   "source": [
    "X = df_pp.drop(columns=['limite_adicional'])\n",
    "y = df_pp['limite_adicional']\n",
    "\n",
    "X_train, X_test, y_train, y_test = ms.train_test_split(X, y, stratify=y, test_size=0.2, random_state=42)"
   ]
  },
  {
   "cell_type": "code",
   "execution_count": 25,
   "id": "572c18d3",
   "metadata": {
    "ExecuteTime": {
     "end_time": "2022-10-23T13:33:10.299867Z",
     "start_time": "2022-10-23T13:33:10.294200Z"
    }
   },
   "outputs": [],
   "source": [
    "# df3 será usado para splitar Treino e Validação\n",
    "df3 = pd.concat([X_train, y_train], axis = 1)\n",
    "\n"
   ]
  },
  {
   "cell_type": "markdown",
   "id": "0624ba1d",
   "metadata": {},
   "source": [
    "# Feature engeneering"
   ]
  },
  {
   "cell_type": "code",
   "execution_count": 26,
   "id": "ca38dff5",
   "metadata": {
    "ExecuteTime": {
     "end_time": "2022-10-23T13:33:11.296399Z",
     "start_time": "2022-10-23T13:33:11.292112Z"
    }
   },
   "outputs": [],
   "source": [
    "def filter_outliers(df, col, factor=2):\n",
    "    q3 = df[col].quantile(0.75)\n",
    "    q1 = df[col].quantile(0.25)\n",
    "\n",
    "    iqr = q3 - q1\n",
    "    max_bouderie = q3 + iqr * factor\n",
    "    min_bouderie = q1 - iqr * factor\n",
    "\n",
    "    return df.loc[(df[col] >= min_bouderie) & (df[col] <= max_bouderie), :]"
   ]
  },
  {
   "cell_type": "code",
   "execution_count": 27,
   "id": "23492af9",
   "metadata": {
    "ExecuteTime": {
     "end_time": "2022-10-23T13:33:11.855255Z",
     "start_time": "2022-10-23T13:33:11.827393Z"
    }
   },
   "outputs": [],
   "source": [
    "df3 = filter_outliers(df3, 'idade')\n",
    "df3 = filter_outliers(df3, 'valor_em_investimentos')\n",
    "df3 = filter_outliers(df3, 'taxa_juros')\n",
    "df3 = filter_outliers(df3, 'renda_anual')\n",
    "df3 = filter_outliers(df3, 'num_emprestimos')\n",
    "df3 = filter_outliers(df3, 'num_cartoes_credito')\n",
    "df3 = filter_outliers(df3, 'num_contas_bancarias')\n",
    "df3 = filter_outliers(df3, 'num_consultas_credito')"
   ]
  },
  {
   "cell_type": "code",
   "execution_count": null,
   "id": "a67252fc",
   "metadata": {},
   "outputs": [],
   "source": []
  },
  {
   "cell_type": "code",
   "execution_count": null,
   "id": "e28f81f6",
   "metadata": {},
   "outputs": [],
   "source": []
  },
  {
   "cell_type": "code",
   "execution_count": 28,
   "id": "0e1547f6",
   "metadata": {
    "ExecuteTime": {
     "end_time": "2022-10-23T13:33:13.126521Z",
     "start_time": "2022-10-23T13:33:13.116209Z"
    }
   },
   "outputs": [],
   "source": [
    "# Dividir dataset entre Treino (90%) e Validação (10%)\n",
    "X = df3.drop(['limite_adicional'], axis=1).copy()\n",
    "y = df3['limite_adicional'].copy()\n",
    "\n",
    "x_train, x_val, y_train, y_val = ms.train_test_split(X, y, stratify=y, test_size=0.10, random_state = 42)"
   ]
  },
  {
   "cell_type": "markdown",
   "id": "bcb98d1d",
   "metadata": {
    "execution": {
     "iopub.execute_input": "2022-10-22T00:47:36.971877Z",
     "iopub.status.busy": "2022-10-22T00:47:36.971420Z",
     "iopub.status.idle": "2022-10-22T00:47:36.979422Z",
     "shell.execute_reply": "2022-10-22T00:47:36.976580Z",
     "shell.execute_reply.started": "2022-10-22T00:47:36.971845Z"
    },
    "papermill": {
     "duration": 0.010783,
     "end_time": "2022-10-22T02:13:23.606508",
     "exception": false,
     "start_time": "2022-10-22T02:13:23.595725",
     "status": "completed"
    },
    "tags": []
   },
   "source": [
    "# Data Preparation"
   ]
  },
  {
   "cell_type": "code",
   "execution_count": 29,
   "id": "adfee3d9",
   "metadata": {
    "ExecuteTime": {
     "end_time": "2022-10-23T13:33:14.567211Z",
     "start_time": "2022-10-23T13:33:14.526282Z"
    }
   },
   "outputs": [],
   "source": [
    "# Encodar features categóricas de treino\n",
    "\n",
    "## Normalizacao\n",
    "ss = StandardScaler()\n",
    "\n",
    "## Frequency Encoding\n",
    "x_train['investe_exterior'] = x_train['investe_exterior'].map(lambda x: 0.76 if x == 0.15 else 0.24)\n",
    "x_train['pessoa_polit_exp'] = x_train['pessoa_polit_exp'].map(lambda x: 0.94 if x == 0.16 else 0.06)\n",
    "\n",
    "## Rescaling\n",
    "rs = RobustScaler()\n",
    "mms = MinMaxScaler()\n",
    "\n",
    "## Robust Scaler\n",
    "x_train['idade'] = rs.fit_transform( x_train[['idade']].values )\n",
    "x_train['saldo_atual'] = rs.fit_transform( x_train[['saldo_atual']].values )\n",
    "x_train['renda_anual'] = rs.fit_transform( x_train[['renda_anual']].values )\n",
    "x_train['valor_em_investimentos'] = rs.fit_transform( x_train[['valor_em_investimentos']].values )\n",
    "x_train['num_emprestimos'] = rs.fit_transform( x_train[['num_emprestimos']].values )\n",
    "x_train['num_contas_bancarias'] = rs.fit_transform( x_train[['num_contas_bancarias']].values )\n",
    "x_train['num_cartoes_credito'] = rs.fit_transform( x_train[['num_cartoes_credito']].values )\n",
    "# x_train['num_pgtos_atrasados'] = rs.fit_transform( x_train[['num_pgtos_atrasados']].values )\n",
    "x_train['num_consultas_credito'] = rs.fit_transform( x_train[['num_consultas_credito']].values )\n",
    "x_train['taxa_juros'] = rs.fit_transform( x_train[['taxa_juros']].values )\n",
    "## Min-max scaler\n",
    "x_train['dias_atraso_dt_venc'] = mms.fit_transform( x_train[['dias_atraso_dt_venc']].values )\n",
    "x_train['divida_atual'] = mms.fit_transform( x_train[['divida_atual']].values )\n",
    "x_train['taxa_utilizacao_credito'] = ss.fit_transform( x_train[['taxa_utilizacao_credito']].values )\n",
    "\n",
    "# Label Enconder\n",
    "le = LabelEncoder()\n",
    "df5['comprometimento_renda'] = le.fit_transform(df5['comprometimento_renda'])\n",
    "\n",
    "pg_atrasados_dict = {'Excelente': 4, 'Bom': 3, 'Regular': 2, 'Ruim': 1}\n",
    "df5['num_pgtos_atrasados'] = df5['num_pgtos_atrasados'].map(pg_atrasados_dict)\n",
    "\n",
    "\n",
    "# Encodar var resposta de treino\n",
    "d_class = {\n",
    "    'Negar': 0,\n",
    "    'Conceder': 1\n",
    "}\n",
    "\n",
    "y_train = y_train.map(d_class)"
   ]
  },
  {
   "cell_type": "code",
   "execution_count": 31,
   "id": "830529b7",
   "metadata": {
    "ExecuteTime": {
     "end_time": "2022-10-23T13:33:57.671734Z",
     "start_time": "2022-10-23T13:33:57.643092Z"
    }
   },
   "outputs": [],
   "source": [
    "# Encodar features categóricas de treino\n",
    "\n",
    "## Normalizacao\n",
    "ss = StandardScaler()\n",
    "\n",
    "## Frequency Encoding\n",
    "x_val['investe_exterior'] = x_val['investe_exterior'].map(lambda x: 0.76 if x == 0.15 else 0.24)\n",
    "x_val['pessoa_polit_exp'] = x_val['pessoa_polit_exp'].map(lambda x: 0.94 if x == 0.16 else 0.06)\n",
    "\n",
    "## Rescaling\n",
    "rs = RobustScaler()\n",
    "mms = MinMaxScaler()\n",
    "\n",
    "## Robust Scaler\n",
    "x_val['idade'] = rs.fit_transform( x_val[['idade']].values )\n",
    "x_val['saldo_atual'] = rs.fit_transform( x_val[['saldo_atual']].values )\n",
    "x_val['renda_anual'] = rs.fit_transform( x_val[['renda_anual']].values )\n",
    "x_val['valor_em_investimentos'] = rs.fit_transform( x_val[['valor_em_investimentos']].values )\n",
    "x_val['num_emprestimos'] = rs.fit_transform( x_val[['num_emprestimos']].values )\n",
    "x_val['num_contas_bancarias'] = rs.fit_transform( x_val[['num_contas_bancarias']].values )\n",
    "x_val['num_cartoes_credito'] = rs.fit_transform( x_val[['num_cartoes_credito']].values )\n",
    "x_val['num_pgtos_atrasados'] = rs.fit_transform( x_val[['num_pgtos_atrasados']].values )\n",
    "x_val['num_consultas_credito'] = rs.fit_transform( x_val[['num_consultas_credito']].values )\n",
    "x_val['taxa_juros'] = rs.fit_transform( x_val[['taxa_juros']].values )\n",
    "## Min-max scaler\n",
    "x_val['dias_atraso_dt_venc'] = mms.fit_transform( x_val[['dias_atraso_dt_venc']].values )\n",
    "x_val['divida_atual'] = mms.fit_transform( x_val[['divida_atual']].values )\n",
    "x_val['taxa_utilizacao_credito'] = ss.fit_transform( x_val[['taxa_utilizacao_credito']].values )\n",
    "\n",
    "# Encodar var resposta de treino\n",
    "d_class = {\n",
    "    'Negar': 0,\n",
    "    'Conceder': 1\n",
    "}\n",
    "\n",
    "y_val = y_val.map(d_class)"
   ]
  },
  {
   "cell_type": "markdown",
   "id": "13a7fafb",
   "metadata": {
    "execution": {
     "iopub.execute_input": "2022-10-22T01:27:22.573445Z",
     "iopub.status.busy": "2022-10-22T01:27:22.572929Z",
     "iopub.status.idle": "2022-10-22T01:27:22.581581Z",
     "shell.execute_reply": "2022-10-22T01:27:22.580412Z",
     "shell.execute_reply.started": "2022-10-22T01:27:22.573407Z"
    },
    "papermill": {
     "duration": 0.010466,
     "end_time": "2022-10-22T02:13:23.917175",
     "exception": false,
     "start_time": "2022-10-22T02:13:23.906709",
     "status": "completed"
    },
    "tags": []
   },
   "source": [
    "## Modeling & Evaluation"
   ]
  },
  {
   "cell_type": "code",
   "execution_count": 32,
   "id": "baa97883",
   "metadata": {
    "ExecuteTime": {
     "end_time": "2022-10-23T13:34:00.286483Z",
     "start_time": "2022-10-23T13:33:59.508790Z"
    }
   },
   "outputs": [],
   "source": [
    "# Aplicação de modelos \n",
    "# Treinar XGBoost Classifier\n",
    "# Model definition\n",
    "model_xgboost = XGBClassifier(random_state=42)\n",
    "# Model training\n",
    "model_xgboost.fit(x_train, y_train)\n",
    "# Model prediction\n",
    "yhat_xgboost = model_xgboost.predict(x_val)"
   ]
  },
  {
   "cell_type": "code",
   "execution_count": 33,
   "id": "1ab819cf",
   "metadata": {
    "ExecuteTime": {
     "end_time": "2022-10-23T13:34:02.172763Z",
     "start_time": "2022-10-23T13:34:02.165102Z"
    }
   },
   "outputs": [
    {
     "name": "stdout",
     "output_type": "stream",
     "text": [
      "XGBoost - Média ponderada com F1 Score (dados validação): 0.864\n"
     ]
    }
   ],
   "source": [
    "# Avaliação de modelos \n",
    "# Validar modelo com F1 Score (dados validação)\n",
    "print(f\"XGBoost - Média ponderada com F1 Score (dados validação): {round(f1_score(y_val, yhat_xgboost, average='weighted') ,3)}\") #binary=default"
   ]
  },
  {
   "cell_type": "code",
   "execution_count": 34,
   "id": "d295fcf2",
   "metadata": {
    "ExecuteTime": {
     "end_time": "2022-10-23T13:34:31.724279Z",
     "start_time": "2022-10-23T13:34:23.314677Z"
    }
   },
   "outputs": [
    {
     "name": "stdout",
     "output_type": "stream",
     "text": [
      "K-folds: [0.625      0.28571429 0.84210526 0.44444444 0.35294118 0.6\n",
      " 0.35294118 0.52631579 0.55555556 0.75      ]\n",
      "XGBoost - Média ponderada com F1 Score (dados validação): 0.862\n"
     ]
    }
   ],
   "source": [
    "# Validar modelo com F1 Score, no método cross validation (dados validação) \n",
    "print(f\"K-folds: {ms.cross_val_score(model_xgboost, x_val, y_val, scoring='f1', cv = 10)}\") #'F1' métrica F1 Score p/ classificação binary\n",
    "print(f\"XGBoost - Média ponderada com F1 Score (dados validação): {round(ms.cross_val_score(model_xgboost, x_val, y_val, scoring='f1_weighted', cv = 10).mean() ,3)}\")\n",
    "# Performance manteve-se próxima com cross validation"
   ]
  },
  {
   "cell_type": "markdown",
   "id": "d258af4d",
   "metadata": {
    "execution": {
     "iopub.execute_input": "2022-10-22T02:13:30.048211Z",
     "iopub.status.busy": "2022-10-22T02:13:30.047872Z",
     "iopub.status.idle": "2022-10-22T02:13:30.052263Z",
     "shell.execute_reply": "2022-10-22T02:13:30.051357Z"
    },
    "papermill": {
     "duration": 0.019791,
     "end_time": "2022-10-22T02:13:30.054411",
     "exception": false,
     "start_time": "2022-10-22T02:13:30.034620",
     "status": "completed"
    },
    "tags": []
   },
   "source": [
    "## All dataset"
   ]
  },
  {
   "cell_type": "code",
   "execution_count": 35,
   "id": "f4289bc2",
   "metadata": {
    "ExecuteTime": {
     "end_time": "2022-10-23T13:34:43.680800Z",
     "start_time": "2022-10-23T13:34:43.675882Z"
    },
    "execution": {
     "iopub.execute_input": "2022-10-22T02:13:30.080721Z",
     "iopub.status.busy": "2022-10-22T02:13:30.080328Z",
     "iopub.status.idle": "2022-10-22T02:13:30.140194Z",
     "shell.execute_reply": "2022-10-22T02:13:30.139229Z"
    },
    "papermill": {
     "duration": 0.076085,
     "end_time": "2022-10-22T02:13:30.142859",
     "exception": false,
     "start_time": "2022-10-22T02:13:30.066774",
     "status": "completed"
    },
    "tags": []
   },
   "outputs": [],
   "source": [
    "# Testar modelos\n",
    "# Antes, juntar dados de treino + validação, formando um novo dataset de treino.\n",
    "x_train_full = pd.concat([x_train, x_val])\n",
    "y_train_full = pd.concat([y_train, y_val])"
   ]
  },
  {
   "cell_type": "code",
   "execution_count": 36,
   "id": "ae4eece6",
   "metadata": {
    "ExecuteTime": {
     "end_time": "2022-10-23T13:34:44.878623Z",
     "start_time": "2022-10-23T13:34:44.854056Z"
    },
    "execution": {
     "iopub.execute_input": "2022-10-22T02:13:30.169150Z",
     "iopub.status.busy": "2022-10-22T02:13:30.168781Z",
     "iopub.status.idle": "2022-10-22T02:13:30.846625Z",
     "shell.execute_reply": "2022-10-22T02:13:30.845619Z"
    },
    "papermill": {
     "duration": 0.693658,
     "end_time": "2022-10-22T02:13:30.848982",
     "exception": false,
     "start_time": "2022-10-22T02:13:30.155324",
     "status": "completed"
    },
    "tags": []
   },
   "outputs": [],
   "source": [
    "# Encodar features categóricas de treino\n",
    "\n",
    "## Normalizacao\n",
    "ss = StandardScaler()\n",
    "\n",
    "## Frequency Encoding\n",
    "X_test['investe_exterior'] = X_test['investe_exterior'].map(lambda x: 0.76 if x == 0.15 else 0.24)\n",
    "X_test['pessoa_polit_exp'] = X_test['pessoa_polit_exp'].map(lambda x: 0.94 if x == 0.16 else 0.06)\n",
    "\n",
    "## Rescaling\n",
    "rs = RobustScaler()\n",
    "mms = MinMaxScaler()\n",
    "\n",
    "## Robust Scaler\n",
    "X_test['idade'] = rs.fit_transform( X_test[['idade']].values )\n",
    "X_test['saldo_atual'] = rs.fit_transform( X_test[['saldo_atual']].values )\n",
    "X_test['renda_anual'] = rs.fit_transform( X_test[['renda_anual']].values )\n",
    "X_test['valor_em_investimentos'] = rs.fit_transform( X_test[['valor_em_investimentos']].values )\n",
    "X_test['num_emprestimos'] = rs.fit_transform( X_test[['num_emprestimos']].values )\n",
    "X_test['num_contas_bancarias'] = rs.fit_transform( X_test[['num_contas_bancarias']].values )\n",
    "X_test['num_cartoes_credito'] = rs.fit_transform( X_test[['num_cartoes_credito']].values )\n",
    "X_test['num_pgtos_atrasados'] = rs.fit_transform( X_test[['num_pgtos_atrasados']].values )\n",
    "X_test['num_consultas_credito'] = rs.fit_transform( X_test[['num_consultas_credito']].values )\n",
    "X_test['taxa_juros'] = rs.fit_transform( X_test[['taxa_juros']].values )\n",
    "## Min-max scaler\n",
    "X_test['dias_atraso_dt_venc'] = mms.fit_transform( X_test[['dias_atraso_dt_venc']].values )\n",
    "X_test['divida_atual'] = mms.fit_transform( X_test[['divida_atual']].values )\n",
    "X_test['taxa_utilizacao_credito'] = ss.fit_transform( X_test[['taxa_utilizacao_credito']].values )\n",
    "\n",
    "# Encodar var resposta de treino\n",
    "d_class = {\n",
    "    'Negar': 0,\n",
    "    'Conceder': 1\n",
    "}\n",
    "\n",
    "y_test = y_test.map(d_class)"
   ]
  },
  {
   "cell_type": "code",
   "execution_count": 37,
   "id": "f4a111fe",
   "metadata": {
    "ExecuteTime": {
     "end_time": "2022-10-23T13:34:47.957467Z",
     "start_time": "2022-10-23T13:34:46.659612Z"
    }
   },
   "outputs": [],
   "source": [
    "# Treinar nova XGBoost, com o novo dataset treino\n",
    "# Model definition\n",
    "model_xgboost_full = XGBClassifier(random_state=42)\n",
    "# Model training\n",
    "model_xgboost_full.fit(x_train_full, y_train_full)\n",
    "# Model prediction\n",
    "# Passar os dados de teste separados anteriormente\n",
    "yhat_xgboost_full = model_xgboost_full.predict(X_test)"
   ]
  },
  {
   "cell_type": "code",
   "execution_count": 38,
   "id": "8639dc6e",
   "metadata": {
    "ExecuteTime": {
     "end_time": "2022-10-23T13:34:49.058410Z",
     "start_time": "2022-10-23T13:34:49.053835Z"
    }
   },
   "outputs": [
    {
     "name": "stdout",
     "output_type": "stream",
     "text": [
      "XGBoost - Média ponderada com F1 Score (dados teste): 0.844\n"
     ]
    }
   ],
   "source": [
    "# Validar modelo com F1 Score (dados teste)\n",
    "print(f\"XGBoost - Média ponderada com F1 Score (dados teste): {round(f1_score(y_test, yhat_xgboost_full, average='weighted') ,3)}\") #binary=default"
   ]
  },
  {
   "cell_type": "code",
   "execution_count": null,
   "id": "8d36fedb",
   "metadata": {},
   "outputs": [],
   "source": [
    "# Parou!!!"
   ]
  },
  {
   "cell_type": "code",
   "execution_count": null,
   "id": "6136c55a",
   "metadata": {},
   "outputs": [],
   "source": [
    "# Carregar dataset teste\n",
    "df_ktest_raw = pd.read_csv('../data/df_kaggle/test.csv')\n",
    "x_ktest = df_ktest_raw.copy()\n",
    "# Conferir dataset teste kaggle\n",
    "x_ktest"
   ]
  },
  {
   "cell_type": "code",
   "execution_count": null,
   "id": "74912afb",
   "metadata": {},
   "outputs": [],
   "source": [
    "# Encodar features categóricas de teste kaggle\n",
    "x_ktest['investe_exterior'] = le_inv_ext.transform(x_ktest['investe_exterior'])\n",
    "x_ktest['pessoa_polit_exp'] = le_pes_pol.transform(x_ktest['pessoa_polit_exp'])"
   ]
  },
  {
   "cell_type": "code",
   "execution_count": null,
   "id": "c88f36e6",
   "metadata": {},
   "outputs": [],
   "source": [
    "# Fazer a previsão do score usando o modelo final treinado:\n",
    "yhat_xgboost_ktest = model_xgboost_full.predict(x_ktest)"
   ]
  },
  {
   "cell_type": "code",
   "execution_count": null,
   "id": "9c6a9a2d",
   "metadata": {},
   "outputs": [],
   "source": [
    "# Preparação para submissão\n",
    "# Criar dataset final\n",
    "df_sub = pd.concat([df_ktest_raw['id_cliente'], pd.Series(yhat_xgboost_ktest, name='limite_adicional')], axis=1)"
   ]
  },
  {
   "cell_type": "code",
   "execution_count": null,
   "id": "be756083",
   "metadata": {},
   "outputs": [],
   "source": [
    "# Traduzir var resposta\n",
    "lim_adi_dic_final = {0 : 'Negar', 1: 'Conceder'}\n",
    "df_sub['limite_adicional'] = df_sub['limite_adicional'].map( lim_adi_dic_final )"
   ]
  },
  {
   "cell_type": "code",
   "execution_count": null,
   "id": "cadd2086",
   "metadata": {},
   "outputs": [],
   "source": [
    "# Visutalizar arquivo final para submissão ao Kaggle\n",
    "df_sub[:5]"
   ]
  },
  {
   "cell_type": "markdown",
   "id": "ff2df287",
   "metadata": {
    "papermill": {
     "duration": 0.012041,
     "end_time": "2022-10-22T02:13:30.873548",
     "exception": false,
     "start_time": "2022-10-22T02:13:30.861507",
     "status": "completed"
    },
    "tags": []
   },
   "source": [
    "## Preparing submission"
   ]
  },
  {
   "cell_type": "code",
   "execution_count": null,
   "id": "3d56c221",
   "metadata": {
    "execution": {
     "iopub.execute_input": "2022-10-22T02:02:04.603093Z",
     "iopub.status.busy": "2022-10-22T02:02:04.602656Z",
     "iopub.status.idle": "2022-10-22T02:02:04.699411Z",
     "shell.execute_reply": "2022-10-22T02:02:04.697811Z",
     "shell.execute_reply.started": "2022-10-22T02:02:04.603061Z"
    },
    "papermill": {
     "duration": null,
     "end_time": null,
     "exception": null,
     "start_time": null,
     "status": "pending"
    },
    "tags": []
   },
   "outputs": [],
   "source": [
    "%%time\n",
    "\n",
    "df_test = pd.read_csv('data/test.csv')\n",
    "\n",
    "#df_test['bank_account'] = df_test['bank_account'].map(d_class) #mapeamento class\n",
    "\n",
    "df_test['investe_exterior'] = df_test['investe_exterior'].map(lambda x: 0.76 if x == 0.15 else 0.24)\n",
    "df_test['pessoa_polit_exp'] = df_test['pessoa_polit_exp'].map(lambda x: 0.94 if x == 0.16 else 0.06)\n",
    "\n",
    "df_test['taxa_utilizacao_credito'] = ss.fit_transform( df_test[['taxa_utilizacao_credito']].values )\n",
    "\n",
    "rs = RobustScaler()\n",
    "mms = MinMaxScaler()\n",
    "\n",
    "## Robust Scaler\n",
    "# idade\n",
    "df_test['idade'] = rs.fit_transform( df_test[['idade']].values )\n",
    "\n",
    "# saldo_atual\n",
    "df_test['saldo_atual'] = rs.fit_transform( df_test[['saldo_atual']].values )\n",
    "\n",
    "# renda_anual\n",
    "df_test['renda_anual'] = rs.fit_transform( df_test[['renda_anual']].values )\n",
    "\n",
    "# valor_em_investimentos\n",
    "df_test['valor_em_investimentos'] = rs.fit_transform( df_test[['valor_em_investimentos']].values )\n",
    "\n",
    "# num_emprestimos\n",
    "df_test['num_emprestimos'] = rs.fit_transform( df_test[['num_emprestimos']].values )\n",
    "\n",
    "# num_contas_bancarias\n",
    "df_test['num_contas_bancarias'] = rs.fit_transform( df_test[['num_contas_bancarias']].values )\n",
    "\n",
    "# num_cartoes_credito\n",
    "df_test['num_cartoes_credito'] = rs.fit_transform( df_test[['num_cartoes_credito']].values )\n",
    "\n",
    "# num_pgtos_atrasados\n",
    "df_test['num_pgtos_atrasados'] = rs.fit_transform( df_test[['num_pgtos_atrasados']].values )\n",
    "\n",
    "# num_consultas_credito\n",
    "df_test['num_consultas_credito'] = rs.fit_transform( df_test[['num_consultas_credito']].values )\n",
    "\n",
    "# taxa_juros\n",
    "df_test['taxa_juros'] = rs.fit_transform( df_test[['taxa_juros']].values )\n",
    "\n",
    "## MinMax Scaler\n",
    "# dias_atraso_dt_venc\n",
    "df_test['dias_atraso_dt_venc'] = mms.fit_transform( df_test[['dias_atraso_dt_venc']].values )\n",
    "\n",
    "# divida_atual\n",
    "df_test['divida_atual'] = mms.fit_transform( df_test[['divida_atual']].values )"
   ]
  },
  {
   "cell_type": "code",
   "execution_count": null,
   "id": "5fe87745",
   "metadata": {
    "execution": {
     "iopub.execute_input": "2022-10-22T02:08:39.333397Z",
     "iopub.status.busy": "2022-10-22T02:08:39.333008Z",
     "iopub.status.idle": "2022-10-22T02:08:39.525506Z",
     "shell.execute_reply": "2022-10-22T02:08:39.523901Z",
     "shell.execute_reply.started": "2022-10-22T02:08:39.333364Z"
    },
    "papermill": {
     "duration": null,
     "end_time": null,
     "exception": null,
     "start_time": null,
     "status": "pending"
    },
    "tags": []
   },
   "outputs": [],
   "source": [
    "#df_ss = pd.read_csv('/kaggle/input/inclusao-financeira-na-africa/test.csv')\n",
    "preds = rf.predict(df_test.drop(columns='id_cliente'))"
   ]
  },
  {
   "cell_type": "code",
   "execution_count": null,
   "id": "2c768043",
   "metadata": {},
   "outputs": [],
   "source": [
    "preds"
   ]
  },
  {
   "cell_type": "code",
   "execution_count": null,
   "id": "01088151",
   "metadata": {
    "execution": {
     "iopub.execute_input": "2022-10-22T02:08:44.866325Z",
     "iopub.status.busy": "2022-10-22T02:08:44.865850Z",
     "iopub.status.idle": "2022-10-22T02:08:44.878255Z",
     "shell.execute_reply": "2022-10-22T02:08:44.877018Z",
     "shell.execute_reply.started": "2022-10-22T02:08:44.866288Z"
    },
    "papermill": {
     "duration": null,
     "end_time": null,
     "exception": null,
     "start_time": null,
     "status": "pending"
    },
    "tags": []
   },
   "outputs": [],
   "source": [
    "df_submission = pd.DataFrame()\n",
    "df_submission['id_cliente'] = df_test['id_cliente']\n",
    "df_submission['limite_adicional'] = preds\n",
    "df_submission['limite_adicional'] = df_submission['limite_adicional'].map(lambda x: 'Conceder' if x == 1 else 'Negar')\n",
    "df_submission = df_submission.set_index('id_cliente')\n",
    "df_submission.head()"
   ]
  },
  {
   "cell_type": "code",
   "execution_count": null,
   "id": "fd6cd01a",
   "metadata": {},
   "outputs": [],
   "source": [
    "df_submission.to_csv('data/submissions/ciclo5_v2.csv')"
   ]
  },
  {
   "cell_type": "code",
   "execution_count": null,
   "id": "e88a8cfd",
   "metadata": {
    "papermill": {
     "duration": null,
     "end_time": null,
     "exception": null,
     "start_time": null,
     "status": "pending"
    },
    "tags": []
   },
   "outputs": [],
   "source": [
    "### Ideias de melhorias\n",
    "    ### 1. Testar novas formas de encoding (1d)\n",
    "    ### 2. Feature engineering (2d)\n",
    "    ### 3. Hyper-parameter tuning (1d)\n",
    "    ### 4. Combinação de modelos"
   ]
  },
  {
   "cell_type": "code",
   "execution_count": null,
   "id": "359d621f",
   "metadata": {
    "papermill": {
     "duration": null,
     "end_time": null,
     "exception": null,
     "start_time": null,
     "status": "pending"
    },
    "tags": []
   },
   "outputs": [],
   "source": []
  },
  {
   "cell_type": "code",
   "execution_count": null,
   "id": "feb87013",
   "metadata": {
    "papermill": {
     "duration": null,
     "end_time": null,
     "exception": null,
     "start_time": null,
     "status": "pending"
    },
    "tags": []
   },
   "outputs": [],
   "source": []
  }
 ],
 "metadata": {
  "kernelspec": {
   "display_name": "DSEmProducao",
   "language": "python",
   "name": "dsemproducao"
  },
  "language_info": {
   "codemirror_mode": {
    "name": "ipython",
    "version": 3
   },
   "file_extension": ".py",
   "mimetype": "text/x-python",
   "name": "python",
   "nbconvert_exporter": "python",
   "pygments_lexer": "ipython3",
   "version": "3.10.0"
  },
  "papermill": {
   "default_parameters": {},
   "duration": 21.064491,
   "end_time": "2022-10-22T02:13:33.660618",
   "environment_variables": {},
   "exception": true,
   "input_path": "__notebook__.ipynb",
   "output_path": "__notebook__.ipynb",
   "parameters": {},
   "start_time": "2022-10-22T02:13:12.596127",
   "version": "2.3.4"
  },
  "vscode": {
   "interpreter": {
    "hash": "72c4c2ad4f44efbf07f603ea2c961d370246a2072412502ed74f3a99ce02cf0a"
   }
  }
 },
 "nbformat": 4,
 "nbformat_minor": 5
}
